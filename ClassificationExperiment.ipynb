{
 "cells": [
  {
   "cell_type": "markdown",
   "metadata": {},
   "source": [
    "- Nesterov accelerated gradient（NAG）\n",
    "- Adagrad\n",
    "- Adaptive Moment Estimation (Adam)\n",
    "\n",
    "http://www.sohu.com/a/131923387_473283"
   ]
  },
  {
   "cell_type": "markdown",
   "metadata": {},
   "source": [
    "# Lab2: Regression Classfication and Stochastic Gradient Descent"
   ]
  },
  {
   "cell_type": "markdown",
   "metadata": {},
   "source": [
    "## Step1: Import and devide dataset."
   ]
  },
  {
   "cell_type": "code",
   "execution_count": 128,
   "metadata": {},
   "outputs": [
    {
     "data": {
      "text/plain": [
       "(32561, 123)"
      ]
     },
     "execution_count": 128,
     "metadata": {},
     "output_type": "execute_result"
    }
   ],
   "source": [
    "from numpy import *\n",
    "from sklearn import preprocessing\n",
    "\n",
    "from sklearn.model_selection import train_test_split\n",
    "from sklearn.datasets import load_svmlight_file\n",
    "\n",
    "train_features, train_targets = load_svmlight_file(\"a9a\", n_features=123)\n",
    "test_features, test_targets = load_svmlight_file(\"a9a.t\", n_features=123)\n",
    "\n",
    "train_targets =  train_targets.reshape(train_targets.shape[0],1)\n",
    "test_targets =  test_targets.reshape(test_targets.shape[0],1)\n",
    "\n",
    "# train_targets[train_targets == -1] = 0\n",
    "# test_targets[test_targets == -1] = 0\n",
    "shape(train_features)"
   ]
  },
  {
   "cell_type": "markdown",
   "metadata": {},
   "source": [
    "## Step2: Initialize SVM model parameters"
   ]
  },
  {
   "cell_type": "code",
   "execution_count": 129,
   "metadata": {
    "collapsed": true
   },
   "outputs": [],
   "source": [
    "import numpy as np\n",
    "\n",
    "theta = np.ones((train_features.shape[1], 1))\n",
    "maxIteration = 100\n",
    "c = 0.5\n",
    "learning_rate = 0.1"
   ]
  },
  {
   "cell_type": "markdown",
   "metadata": {},
   "source": [
    "## Step3: Gradient function, loss funciton and accuracy function"
   ]
  },
  {
   "cell_type": "code",
   "execution_count": 130,
   "metadata": {},
   "outputs": [
    {
     "name": "stdout",
     "output_type": "stream",
     "text": [
      "Iteration ; 0\n",
      "Iteration ; 10\n",
      "Iteration ; 20\n",
      "Iteration ; 30\n",
      "Iteration ; 40\n",
      "Iteration ; 50\n",
      "Iteration ; 60\n",
      "Iteration ; 70\n",
      "Iteration ; 80\n",
      "Iteration ; 90\n"
     ]
    }
   ],
   "source": [
    "# # x_todense_T数组存储了x[i].todense().T的值，减少了重复计算量，提高运算速度\n",
    "# x_todense_T = []\n",
    "# for i in range(train_features.shape[0]):\n",
    "#     x_todense_T.append(train_features[i].todense().T)\n",
    "\n",
    "def cal_hinge_loss_and_grad(theta,x,y):\n",
    "    loss,grad = 0,0\n",
    "    for j in range(x.shape[0]):\n",
    "        v = y[j]*((theta.T).dot(x_todense_T[j])[0,0])\n",
    "        loss += max(0,1-v)\n",
    "        grad += 0 if v > 1 else -y[j]*x[j].todense()\n",
    "    return (loss/x.shape[0],grad)\n",
    "\n",
    "def cal_stochastic_gradient(theta):\n",
    "    grad = np.zeros((train_features.shape[1]))\n",
    "    while (grad.sum() == 0):\n",
    "        j = random.randint(0,train_features.shape[0])\n",
    "#     grad = np.multipy(train_features[j], train_targets[j])\n",
    "#     grad = train_features[j] * train_targets[j]\n",
    "        train_targets_matrix_j = train_targets[j].reshape(1,1)\n",
    "        grad = - train_targets_matrix_j * train_features[j] \n",
    "    return (grad)\n",
    "\n",
    "def cal_hinge_loss(theta,x,y):\n",
    "    loss = 0\n",
    "    for j in range(x.shape[0]):\n",
    "        v = y[j]*((theta.T).dot(x[j].todense().T)[0,0])\n",
    "        loss += max(0,1-v)\n",
    "    return loss/x.shape[0]\n",
    "\n",
    "def cal_accur(x,y,theta):\n",
    "    hypothesis = x * theta\n",
    "    hypothesis[hypothesis > 0] = 1\n",
    "    hypothesis[hypothesis <= 0] = -1\n",
    "    return np.count_nonzero(hypothesis == y)/ x.shape[0]\n",
    "\n",
    "train_loss, evaluation_loss, train_accr, evaluation_accr = [],[],[],[]\n",
    "\n",
    "def gradientDescent(w):\n",
    "    for i in range(maxIteration):\n",
    "#         current_train_loss, gradient = cal_hinge_loss_and_grad(w,train_features,train_targets)\n",
    "        gradient = cal_stochastic_gradient(w)\n",
    "#         print(gradient)\n",
    "#         w = w-learning_rate*gradient.T\n",
    "        w = w - learning_rate*gradient\n",
    "        if(i%10 == 0):\n",
    "            train_loss.append(cal_hinge_loss(w,train_features,train_targets))\n",
    "#         evaluation_loss.append( cal_hinge_loss(w,test_features,test_targets))\n",
    "            train_accr.append(cal_accur(train_features,train_targets,w))\n",
    "#         evaluation_accr.append(cal_accur(test_features,test_targets,w))\n",
    "            print(\"Iteration ;\", i)\n",
    "        \n",
    "gradientDescent(theta)\n"
   ]
  },
  {
   "cell_type": "code",
   "execution_count": 132,
   "metadata": {},
   "outputs": [
    {
     "data": {
      "text/plain": [
       "<matplotlib.legend.Legend at 0x23d0c9f4fd0>"
      ]
     },
     "execution_count": 132,
     "metadata": {},
     "output_type": "execute_result"
    },
    {
     "data": {
      "image/png": "[encoded data removed]",
      "text/plain": [
       "<matplotlib.figure.Figure at 0x23d0caf8be0>"
      ]
     },
     "metadata": {},
     "output_type": "display_data"
    }
   ],
   "source": [
    "\n",
    "import matplotlib.pyplot as plt\n",
    "%matplotlib inline\n",
    "plt.xlabel(\"Iteration\")\n",
    "plt.ylabel(\"loss\")\n",
    "plt.plot( train_loss, label=\"train_loss\")\n",
    "plt.plot( evaluation_loss,label=\"evaluation_loss\" )\n",
    "plt.legend(loc=\"upper right\")"
   ]
  },
  {
   "cell_type": "code",
   "execution_count": 133,
   "metadata": {},
   "outputs": [
    {
     "data": {
      "text/plain": [
       "<matplotlib.legend.Legend at 0x23d0cb80c50>"
      ]
     },
     "execution_count": 133,
     "metadata": {},
     "output_type": "execute_result"
    },
    {
     "data": {
      "image/png": "[encoded data removed]",
      "text/plain": [
       "<matplotlib.figure.Figure at 0x23d0ca08f60>"
      ]
     },
     "metadata": {},
     "output_type": "display_data"
    }
   ],
   "source": [
    "plt.xlabel(\"Iteration\")\n",
    "plt.ylabel(\"Accuracy\")\n",
    "plt.plot(train_accr, label=\"train_accr\")\n",
    "plt.plot(evaluation_accr, label=\"evaluation_accr\")\n",
    "plt.legend(loc=\"lower right\")"
   ]
  }
 ],
 "metadata": {
  "kernelspec": {
   "display_name": "Python 3",
   "language": "python",
   "name": "python3"
  },
  "language_info": {
   "codemirror_mode": {
    "name": "ipython",
    "version": 3
   },
   "file_extension": ".py",
   "mimetype": "text/x-python",
   "name": "python",
   "nbconvert_exporter": "python",
   "pygments_lexer": "ipython3",
   "version": "3.6.3"
  }
 },
 "nbformat": 4,
 "nbformat_minor": 2
}
